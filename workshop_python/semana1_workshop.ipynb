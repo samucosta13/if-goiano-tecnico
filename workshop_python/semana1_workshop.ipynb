{
  "nbformat": 4,
  "nbformat_minor": 0,
  "metadata": {
    "colab": {
      "name": "semana1_workshop.ipynb",
      "provenance": []
    },
    "kernelspec": {
      "name": "python3",
      "display_name": "Python 3"
    },
    "language_info": {
      "name": "python"
    }
  },
  "cells": [
    {
      "cell_type": "markdown",
      "metadata": {
        "id": "aFj24qE2LIiO"
      },
      "source": [
        "**Semana 1**\n",
        "---\n",
        "Códigos para aplicação dos recursos da linguagem e operações matemáticas aprendidas durante o Workshop de Inteligência Artificial e Ciência de Dados, com Python."
      ]
    },
    {
      "cell_type": "code",
      "metadata": {
        "id": "rWa69bpVLAJ2"
      },
      "source": [
        "s = 50\n",
        "g = s\n",
        "g is s"
      ],
      "execution_count": null,
      "outputs": []
    },
    {
      "cell_type": "code",
      "metadata": {
        "id": "4KBk0uJMMscH"
      },
      "source": [
        "s = [6,5]\n",
        "g = [6,5]\n",
        "s is g"
      ],
      "execution_count": null,
      "outputs": []
    },
    {
      "cell_type": "code",
      "metadata": {
        "id": "6RZisxp2Mxmd"
      },
      "source": [
        "s = 9\n",
        "g = 9\n",
        "s is g"
      ],
      "execution_count": null,
      "outputs": []
    },
    {
      "cell_type": "code",
      "metadata": {
        "id": "cO-RtLWcNEKj"
      },
      "source": [
        "s = (2,3)\n",
        "g = (2,3)\n",
        "s is g"
      ],
      "execution_count": null,
      "outputs": []
    },
    {
      "cell_type": "code",
      "metadata": {
        "id": "yMi9_WtiNMpH"
      },
      "source": [
        "s = 'eu'\n",
        "g = 'ele'\n",
        "s is not g"
      ],
      "execution_count": null,
      "outputs": []
    },
    {
      "cell_type": "code",
      "metadata": {
        "id": "O91L_kVhNVjS"
      },
      "source": [
        "s = 'nosotros'\n",
        "g = \"nosotros\"\n",
        "s is g\n",
        "# \"is\" só é \"True\" quando ambos apontam pro mesmo objeto"
      ],
      "execution_count": null,
      "outputs": []
    },
    {
      "cell_type": "code",
      "metadata": {
        "id": "nfWm2N82NjFL"
      },
      "source": [
        "nome = input('escreve seu nome agora! ->')\n",
        "'Olá, {0}! Eu odeio {ropa}... Você tem um péssimo gosto, viu {0}??'.format(nome,ropa='sua roupa')"
      ],
      "execution_count": null,
      "outputs": []
    },
    {
      "cell_type": "code",
      "metadata": {
        "id": "LZCxZKOxOokp"
      },
      "source": [
        "# F strings\n",
        "doce1, doce2 = input().split()\n",
        "print(f'Boa tarde! Hoje temos {doce1} e {doce2}. Vai querer qual desses?')"
      ],
      "execution_count": null,
      "outputs": []
    },
    {
      "cell_type": "code",
      "metadata": {
        "id": "iEQCc1VAQsaQ"
      },
      "source": [
        "listinha = None\n",
        "print(listinha is None)\n",
        "print(listinha)"
      ],
      "execution_count": null,
      "outputs": []
    },
    {
      "cell_type": "code",
      "metadata": {
        "id": "fzKe0kwURKtn"
      },
      "source": [
        "listona = [7,6,4,3]\n",
        "print('valores pré-definidos: ',listona)\n",
        "listona.append(8)\n",
        "print('adicionei 8 ao fim (append): ',listona)\n",
        "listona.pop(3)\n",
        "print('retirei o 3 da lista (pop): ',listona)\n",
        "print('lista[0] = primeiro elemento dela: ',listona[0])\n",
        "print('lista[1:3] = 2º ao 4º elemento dela, exclusive: ',listona[1:3])\n",
        "print('lista[::-1] = do 1º ao último, inclusive, com passo contrário (-1): ',listona[::-1])\n",
        "print('lista[::-2] = do 1º ao último, inclusive, com passo duplo contrário (-2): ',listona[::-2])\n",
        "print('lista[1:] = do 2º ao último elemento, inclusive: ',listona[1:])\n",
        "print(listona[1::2])"
      ],
      "execution_count": null,
      "outputs": []
    },
    {
      "cell_type": "code",
      "metadata": {
        "id": "SEEY2T2JUfTt"
      },
      "source": [
        "lista = listona[:4]\n",
        "print(lista)\n",
        "del lista[0]\n",
        "print(lista)\n",
        "lista.insert(2,6)\n",
        "print(lista)\n",
        "# posição , elemento\n",
        "print('o primeiro 6 está na posição ',lista.index(6))\n",
        "print('3 está na lista =',(3 in lista))\n",
        "print('se somar as duas listas, fica %i valores'%(len(lista+listona)))"
      ],
      "execution_count": null,
      "outputs": []
    },
    {
      "cell_type": "code",
      "metadata": {
        "id": "qxNgzUYQVu7O"
      },
      "source": [
        "maior = int(input())\n",
        "menor = int(input())\n",
        "if menor > maior:\n",
        "  maior, menor = menor, maior\n",
        "  # ^ você tá trabalhando com tupla aqui, pra trocar valores\n",
        "  # tuplas criadas automaticamente quando tá sem parênteses\n",
        "print('%i é maior que %i'%(maior,menor))"
      ],
      "execution_count": null,
      "outputs": []
    },
    {
      "cell_type": "code",
      "metadata": {
        "id": "F01hOMUVXxHT"
      },
      "source": [
        "dicio = {}\n",
        "# { CHAVE: VALOR, CHAVE: VALOR}\n",
        "#CHAVE TEM QUE SER IMUTÁVEL, VALOR PODE SER QUALQUER COISA\n",
        "dicionario = {'sam':'Samuel Felipe','nb':'non binary','y': 17}\n",
        "print(\"Hi! I am {0}, I'm {2} years old and my gender is {1}.\".format(dicionario['sam'],dicionario['nb'], dicionario['y']))\n",
        "print('y' in dicionario)\n",
        "print('y' in dicio)\n",
        "print(dicio.get('sam','Não tem esse, Samuca'))\n",
        "# ^ evita erro, aparece o None ou o argumento q vc coloca quando a chave n exite no dicionario\n",
        "dicio.setdefault('nb','genderfluid')\n",
        "dicionario.setdefault('nb','genderfluid')\n",
        "# ^ só insere se não tiver a chave 'nb'\n",
        "print(list(dicionario.values()))\n",
        "print(dicio)\n",
        "del dicio['nb']\n",
        "print(dicio)\n",
        "dicio.update({'py':'amo Python', 'hi':'Lorena'})\n",
        "print(dicio)"
      ],
      "execution_count": null,
      "outputs": []
    },
    {
      "cell_type": "code",
      "metadata": {
        "id": "yeWN0mSKsVst"
      },
      "source": [
        "#CONJUNTOS - listas sem repetidos, sem ordem, elementos IMUTÁVEIS\n",
        "coco = {1,11,1}\n",
        "print(coco) #não  vai aparecer o 1 duas vezes\n",
        "coconut = {} # ou set()\n",
        "print(coconut)\n",
        "coco.add((4,1))\n",
        "coco.add(1) # não repete o 1, então não vai adicionar ele\n",
        "print(coco)\n",
        "coconut = {3,11}\n",
        "print('Coco',coco)\n",
        "print('Coconut',coconut)\n",
        "print('Intersecção:',coco&coconut)\n",
        "print('União:',coco|coconut) # não repete valores\n",
        "print('Diferença (-):',coco-coconut)\n",
        "coco.add(3)\n",
        "print('Adicionei 3:',coco)\n",
        "print('3 pertence a Coco:',3 in coco)\n",
        "print('Coco é superconjunto de Coconut?',coco>=coconut)\n",
        "print('Coconut é subconjunto de Coco?',coconut<=coco)"
      ],
      "execution_count": null,
      "outputs": []
    },
    {
      "cell_type": "code",
      "metadata": {
        "id": "jQbf6vX2yIDr"
      },
      "source": [
        "cor = input('Cropped de que cor? ')\n",
        "for samu in ['bege','índigo','púrpura','goiaba']:\n",
        "  if samu in cor:\n",
        "    print('Temos um cropped {}, Sam.'.format(samu))"
      ],
      "execution_count": null,
      "outputs": []
    },
    {
      "cell_type": "code",
      "metadata": {
        "id": "pZkQCOj5z6_a"
      },
      "source": [
        "cor = input('Cropped de que cor? ')\n",
        "catalogo = ['bege','índigo','púrpura','goiaba']\n",
        "for samu in catalogo:\n",
        "  if samu in cor:\n",
        "    if catalogo.index(samu) == 0:\n",
        "      print('Temos um cropped {}, Sam.'.format(samu))\n",
        "    elif int(catalogo.index(samu))%2 == 0:\n",
        "      print('Tem esse cropped {}, Sam.'.format(samu))\n",
        "    elif int(catalogo.index(samu))%2 != 0:\n",
        "      print('Achei um cropped {}, Sam.'.format(samu))"
      ],
      "execution_count": null,
      "outputs": []
    },
    {
      "cell_type": "code",
      "metadata": {
        "id": "vFatQFDk1KIS"
      },
      "source": [
        "cor = input('Cropped de que cor? ')\n",
        "catalogo = ['bege','índigo','púrpura','goiaba']\n",
        "for ind,samu in enumerate(catalogo):\n",
        "  if samu in cor:\n",
        "    if ind == 0:\n",
        "      print('Temos um cropped {}, Sam.'.format(samu))\n",
        "    elif ind%2 == 0:\n",
        "      print('Tem esse cropped {}, Sam.'.format(samu))\n",
        "    elif ind%2 != 0:\n",
        "      print('Achei um cropped {}, Sam.'.format(samu))"
      ],
      "execution_count": null,
      "outputs": []
    },
    {
      "cell_type": "markdown",
      "metadata": {
        "id": "XvmYheAU19Ul"
      },
      "source": [
        "<b>Soluções para os exercícios propostos<b>"
      ]
    },
    {
      "cell_type": "code",
      "metadata": {
        "id": "A4QfGiix3Xtt"
      },
      "source": [
        "n = int(input())\n",
        "print('O número informado foi {}'.format(n))"
      ],
      "execution_count": null,
      "outputs": []
    },
    {
      "cell_type": "code",
      "metadata": {
        "id": "iP89jw4l30Up"
      },
      "source": [
        "raio = float(input())\n",
        "area = 3.14*(raio**2)\n",
        "print(area)"
      ],
      "execution_count": null,
      "outputs": []
    },
    {
      "cell_type": "code",
      "metadata": {
        "id": "VEtWLHno4PM9"
      },
      "source": [
        "m = float(input())\n",
        "c = m*100\n",
        "mm = ''\n",
        "cc = ''\n",
        "if m >= 2:\n",
        "  mm = 's'\n",
        "if c >= 2:\n",
        "  cc = 's'\n",
        "print('{} metro{} é igual a {} centímetro{}'.format(m,mm,c,cc))"
      ],
      "execution_count": null,
      "outputs": []
    },
    {
      "cell_type": "code",
      "metadata": {
        "id": "SDH_r4I45SZ5"
      },
      "source": [
        "fah = float(input())\n",
        "cel = (fah-32)*5/9\n",
        "print('{}°F = {}° C'.format(fah,cel))"
      ],
      "execution_count": null,
      "outputs": []
    },
    {
      "cell_type": "code",
      "metadata": {
        "id": "wUwRhN9n7NxU"
      },
      "source": [
        "g, h = input().split()\n",
        "g = int(g)\n",
        "h = int(h)\n",
        "i = float(input())\n",
        "p = g*h\n",
        "s = 3*g+i\n",
        "e = i**3\n",
        "print('Dobro primeiro x metade segundo: {}'.format(p))\n",
        "print('Triplo primeiro + terceiro: {}'.format(s))\n",
        "print('Terceiro ao cubo: {}'.format(e))"
      ],
      "execution_count": null,
      "outputs": []
    },
    {
      "cell_type": "code",
      "metadata": {
        "id": "0kUZiNxq8rG-"
      },
      "source": [
        "din = int(input())\n",
        "print('%i notes of 100'%(din//100))\n",
        "din = din%100\n",
        "print('%i notes of 50'%(din//50))\n",
        "din = din%50\n",
        "print('%i notes of 20'%(din//20))\n",
        "din = din%20\n",
        "print('%i notes of 10'%(din//10))\n",
        "din = din%10\n",
        "print('%i notes of 5'%(din//5))\n",
        "din = din%5\n",
        "print('%i notes of 2'%(din//2))\n",
        "din = din%2\n",
        "print('%i note of 1'%(din))"
      ],
      "execution_count": null,
      "outputs": []
    },
    {
      "cell_type": "code",
      "metadata": {
        "id": "NsPpKD-zO0dq"
      },
      "source": [
        "num = int(input())\n",
        "num_ = []\n",
        "for r in range(1,num):\n",
        "  if num%r == 0:\n",
        "    num_.append(r)\n",
        "num_.append(num)\n",
        "print(num_)"
      ],
      "execution_count": null,
      "outputs": []
    },
    {
      "cell_type": "code",
      "metadata": {
        "id": "hWEbNUVAPdBv"
      },
      "source": [
        "import random\n",
        "v = random.randint(1,999)\n",
        "e = int(input())\n",
        "while e != v:\n",
        "  if e > v:\n",
        "    print('Reduce your guess.')\n",
        "  elif e < v:\n",
        "    print('Increase your guess.')\n",
        "  e = int(input())\n",
        "else:\n",
        "  print('You guessed!')"
      ],
      "execution_count": null,
      "outputs": []
    },
    {
      "cell_type": "code",
      "metadata": {
        "id": "av-kn3wTSTQn"
      },
      "source": [
        "for seven in range(2000,3201):\n",
        "  if seven%7 == 0 and seven%5 != 0:\n",
        "    if seven != 3199:\n",
        "      print(seven,end=',')\n",
        "    else:\n",
        "      print(seven)"
      ],
      "execution_count": null,
      "outputs": []
    }
  ]
}